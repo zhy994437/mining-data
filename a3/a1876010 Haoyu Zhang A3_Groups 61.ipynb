{
 "cells": [
  {
   "cell_type": "markdown",
   "metadata": {
    "id": "g0jZbct_66l4"
   },
   "source": [
    "# Assignment 3\n",
    "\n",
    "in this case I'm going to use user-to-user collaborative filtering to recommend items to users."
   ]
  },
  {
   "cell_type": "markdown",
   "metadata": {
    "id": "I5E8jvsn66l8"
   },
   "source": [
    "# 0. Library"
   ]
  },
  {
   "cell_type": "code",
   "execution_count": null,
   "metadata": {
    "id": "8sa9Nnib66l8"
   },
   "outputs": [],
   "source": [
    "import pandas as pd\n",
    "import numpy as np\n",
    "import matplotlib.pyplot as plt\n",
    "import time\n",
    "import itertools\n",
    "from tqdm import tqdm\n",
    "import math\n",
    "import scipy.sparse as sparse\n",
    "from mlxtend.preprocessing import TransactionEncoder\n",
    "from mlxtend.frequent_patterns import apriori, fpmax, fpgrowth\n",
    "import seaborn as sns\n",
    "from mlxtend.frequent_patterns import apriori, association_rules\n",
    "\n"
   ]
  },
  {
   "cell_type": "markdown",
   "metadata": {
    "id": "ozMgMPo366l9"
   },
   "source": [
    "# 1. Load Data"
   ]
  },
  {
   "cell_type": "code",
   "execution_count": null,
   "metadata": {
    "colab": {
     "base_uri": "https://localhost:8080/",
     "height": 1000
    },
    "executionInfo": {
     "elapsed": 1095,
     "status": "ok",
     "timestamp": 1717127516419,
     "user": {
      "displayName": "Samuel Guo",
      "userId": "00829638698112571372"
     },
     "user_tz": -480
    },
    "id": "Itrxyt2y66l-",
    "outputId": "2a3ce4b5-01b8-4322-9635-66072fd666b0"
   },
   "outputs": [],
   "source": [
    "df_train = pd.read_csv(\"https://raw.githubusercontent.com/LDSamuelGuo/ANLP/main/Groceries%20data%20train.csv\")\n",
    "df_test = pd.read_csv(\"https://raw.githubusercontent.com/LDSamuelGuo/ANLP/main/Groceries%20data%20test.csv\")\n",
    "\n",
    "print('Data Train Head')\n",
    "display(df_train.head())\n",
    "\n",
    "print('Data Test Head')\n",
    "display(df_test.head())\n",
    "\n",
    "print(f'Train shape: {df_train.shape}')\n",
    "print(f'Tets shape: {df_test.shape}\\n')\n",
    "\n",
    "print('Train info')\n",
    "display(df_train.info())\n",
    "print('Test info')\n",
    "display(df_test.info())\n"
   ]
  },
  {
   "cell_type": "markdown",
   "metadata": {
    "id": "aidrp4_t66l_"
   },
   "source": [
    "# 2. Exploratory Data Analysis\n",
    "In this part, we will explore the data on the user and item side. We also want to know the distribution of the items and users in the dataset. The aim of the EDA is to understand the data better and to know the distribution of the data."
   ]
  },
  {
   "cell_type": "markdown",
   "metadata": {
    "id": "iP-HH3AD66l_"
   },
   "source": [
    "## 2.1 Check Missing Value"
   ]
  },
  {
   "cell_type": "code",
   "execution_count": null,
   "metadata": {
    "colab": {
     "base_uri": "https://localhost:8080/",
     "height": 345
    },
    "executionInfo": {
     "elapsed": 18,
     "status": "ok",
     "timestamp": 1717127516420,
     "user": {
      "displayName": "Samuel Guo",
      "userId": "00829638698112571372"
     },
     "user_tz": -480
    },
    "id": "bADlwRHn66l_",
    "outputId": "97e5a447-c403-4d60-e66a-5b020cb492f9"
   },
   "outputs": [],
   "source": [
    "print('Data Train')\n",
    "display(df_train.isna().sum())\n",
    "\n",
    "print('Data Test')\n",
    "display(df_test.isna().sum())"
   ]
  },
  {
   "cell_type": "markdown",
   "metadata": {
    "id": "vlpp-DX766mA"
   },
   "source": [
    "## 2.2 Data Cleaning\n",
    "\n",
    "From the previous part, we could see that the `Member_number\t` columns do not have a string type. Therefore, it will be changed to string type.  Lastly, the `Date` column will be changed to datetime type."
   ]
  },
  {
   "cell_type": "code",
   "execution_count": null,
   "metadata": {
    "id": "-t-IF-fT66mA"
   },
   "outputs": [],
   "source": [
    "def clean_data(dataframe):\n",
    "    \"\"\"\n",
    "    Cleans the given dataframe by performing the following operations:\n",
    "        1. Converts Member_number columns to string data type.\n",
    "        2. Converts the 'Date' column to datetime format.\n",
    "\n",
    "\n",
    "    Parameters:\n",
    "        - dataframe (pandas.DataFrame): The dataframe to be cleaned.\n",
    "\n",
    "    Returns:\n",
    "        - None. The dataframe is modified in-place.\n",
    "    \"\"\"\n",
    "\n",
    "    # change Member_number, Member_number to string\n",
    "    dataframe['Member_number'] = dataframe['Member_number'].astype(str)\n",
    "\n",
    "\n",
    "\n",
    "    # change Date to datetime\n",
    "    dataframe['Date'] = pd.to_datetime(dataframe['Date'], format='%d/%m/%Y')\n"
   ]
  },
  {
   "cell_type": "code",
   "execution_count": null,
   "metadata": {
    "colab": {
     "base_uri": "https://localhost:8080/",
     "height": 316
    },
    "executionInfo": {
     "elapsed": 777,
     "status": "ok",
     "timestamp": 1717127517190,
     "user": {
      "displayName": "Samuel Guo",
      "userId": "00829638698112571372"
     },
     "user_tz": -480
    },
    "id": "2OskN_7e66mB",
    "outputId": "41135c06-ec15-4056-826d-e416df47503c"
   },
   "outputs": [],
   "source": [
    "print(f\"Original Train Shape: {df_train.shape}\")\n",
    "print(f'Original Test Shape: {df_test.shape}\\n')\n",
    "clean_data(df_train)\n",
    "clean_data(df_test)\n",
    "\n",
    "print(f\"Clean Train Shape: {df_train.shape}\")\n",
    "print(f\"Clean Test Shape: {df_test.shape}\\n\")\n",
    "\n",
    "display(df_train.head())"
   ]
  },
  {
   "cell_type": "markdown",
   "metadata": {
    "id": "wB-9M_Gv66mB"
   },
   "source": [
    "## 2.3 Min and Max Date"
   ]
  },
  {
   "cell_type": "code",
   "execution_count": null,
   "metadata": {
    "colab": {
     "base_uri": "https://localhost:8080/"
    },
    "executionInfo": {
     "elapsed": 9,
     "status": "ok",
     "timestamp": 1717127517191,
     "user": {
      "displayName": "Samuel Guo",
      "userId": "00829638698112571372"
     },
     "user_tz": -480
    },
    "id": "r9QIXMhs66mB",
    "outputId": "63c64a9c-7c26-4808-f551-6a766bee831e"
   },
   "outputs": [],
   "source": [
    "print('Train Data')\n",
    "print(f\"Min Date: {df_train.Date.min()}\")\n",
    "print(f\"Max Date: {df_train.Date.max()}\\n\")\n",
    "\n",
    "print('Test Data')\n",
    "print(f\"Min Date: {df_test.Date.min()}\")\n",
    "print(f\"Max Date: {df_test.Date.max()}\")"
   ]
  },
  {
   "cell_type": "markdown",
   "metadata": {
    "id": "sxCh38Cx66mC"
   },
   "source": [
    "As we can see, train and test dataset have the same date range"
   ]
  },
  {
   "cell_type": "markdown",
   "metadata": {
    "id": "u6dZIQdv66mC"
   },
   "source": [
    "## 2.4 User Analysis\n",
    "The goal of this analysis is to understand the number of unique member in each dataset also we want to know the distribution of the transaction per customer."
   ]
  },
  {
   "cell_type": "markdown",
   "metadata": {
    "id": "DW3ejbQC66mC"
   },
   "source": [
    "### 2.4.1 Count Unique Member"
   ]
  },
  {
   "cell_type": "code",
   "execution_count": null,
   "metadata": {
    "colab": {
     "base_uri": "https://localhost:8080/"
    },
    "executionInfo": {
     "elapsed": 6,
     "status": "ok",
     "timestamp": 1717127517191,
     "user": {
      "displayName": "Samuel Guo",
      "userId": "00829638698112571372"
     },
     "user_tz": -480
    },
    "id": "_e_mKsva66mC",
    "outputId": "9ac5c6f2-9de5-443d-a207-01badb5c8e7a"
   },
   "outputs": [],
   "source": [
    "print('Train Data')\n",
    "print(f\"Num of Unique Member: {df_train.Member_number.nunique()}\\n\")\n",
    "\n",
    "print(\"Test Data\")\n",
    "print(f\"Num of Unique Member: {df_test.Member_number.nunique()}\\n\")\n",
    "\n",
    "print(\"All Data\")\n",
    "print(f\"Num of Unique Member: {pd.concat([df_train, df_test]).Member_number.nunique()}\")"
   ]
  },
  {
   "cell_type": "code",
   "execution_count": null,
   "metadata": {
    "colab": {
     "base_uri": "https://localhost:8080/"
    },
    "executionInfo": {
     "elapsed": 368,
     "status": "ok",
     "timestamp": 1717127517555,
     "user": {
      "displayName": "Samuel Guo",
      "userId": "00829638698112571372"
     },
     "user_tz": -480
    },
    "id": "sX-ngXxx66mD",
    "outputId": "aa717405-3e0f-4ba8-f334-481936792534"
   },
   "outputs": [],
   "source": [
    "train_cust = df_train.Member_number.str.lower().unique()\n",
    "test_cust = df_test.Member_number.str.lower().unique()\n",
    "\n",
    "test_not_in_train_cust = len([x for x in test_cust if x not in train_cust])\n",
    "print(f\"Number of Member in test but not in train: {test_not_in_train_cust}\")"
   ]
  },
  {
   "cell_type": "markdown",
   "metadata": {
    "id": "3uVlByaX66mD"
   },
   "source": [
    "## 2.5 Item Analysis"
   ]
  },
  {
   "cell_type": "markdown",
   "metadata": {
    "id": "qeG_0ks-66mD"
   },
   "source": [
    "### 2.5.1 Number of Unique Items"
   ]
  },
  {
   "cell_type": "code",
   "execution_count": null,
   "metadata": {
    "colab": {
     "base_uri": "https://localhost:8080/"
    },
    "executionInfo": {
     "elapsed": 8,
     "status": "ok",
     "timestamp": 1717127517555,
     "user": {
      "displayName": "Samuel Guo",
      "userId": "00829638698112571372"
     },
     "user_tz": -480
    },
    "id": "w9vkaR3x66mD",
    "outputId": "3b9da3e0-05d3-4381-ce38-ab493bfd4c55"
   },
   "outputs": [],
   "source": [
    "print('Train Data')\n",
    "print(f\"Num of Unique Items by Name: {df_train.itemDescription.str.lower().nunique()}\\n\")\n",
    "\n",
    "print(\"Test Data\")\n",
    "print(f\"Num of Unique Items by Name: {df_test.itemDescription.str.lower().nunique()}\\n\")\n",
    "\n",
    "print(\"All Data\")\n",
    "print(f\"Num of Unique Items by Name: {pd.concat([df_train, df_test]).itemDescription.str.lower().nunique()}\")"
   ]
  },
  {
   "cell_type": "code",
   "execution_count": null,
   "metadata": {
    "colab": {
     "base_uri": "https://localhost:8080/"
    },
    "executionInfo": {
     "elapsed": 596,
     "status": "ok",
     "timestamp": 1717127518146,
     "user": {
      "displayName": "Samuel Guo",
      "userId": "00829638698112571372"
     },
     "user_tz": -480
    },
    "id": "-2i_h2Hd66mE",
    "outputId": "075bcbc0-c8b7-4b38-efd6-5c107027ba78"
   },
   "outputs": [],
   "source": [
    "train_items = df_train.itemDescription.str.lower().unique()\n",
    "test_items = df_test.itemDescription.str.lower().unique()\n",
    "\n",
    "test_not_in_train_items = len([x for x in test_items if x not in train_items])\n",
    "print(f\"Number of Memberin test but not in train: {test_not_in_train_items}\")"
   ]
  },
  {
   "cell_type": "markdown",
   "metadata": {
    "id": "bDu0pViW66mE"
   },
   "source": [
    "### 2.5.2 Clean Item Name"
   ]
  },
  {
   "cell_type": "code",
   "execution_count": null,
   "metadata": {
    "id": "RzanVPz266mE"
   },
   "outputs": [],
   "source": [
    "import re\n",
    "\n",
    "def remove_color(string):\n",
    "    \"\"\"\n",
    "    Removes  special characters, and extra spaces from a given string.\n",
    "\n",
    "    Parameters:\n",
    "        - string (str): The input string from which special characters will be removed.\n",
    "\n",
    "    Returns:\n",
    "        - str: The modified string with special characters removed, and extra spaces removed.\n",
    "    \"\"\"\n",
    "\n",
    "\n",
    "    # remove special characters\n",
    "    string = re.sub(r'[^a-zA-Z0-9\\s]', '', string)\n",
    "\n",
    "    # remove extra spaces\n",
    "    string = re.sub('\\s+', ' ', string)\n",
    "\n",
    "    return string.upper().strip()\n",
    "\n",
    "df_train['itemDescription'] = df_train['itemDescription'].apply(remove_color)\n",
    "df_test['itemDescription'] = df_test['itemDescription'].apply(remove_color)"
   ]
  },
  {
   "cell_type": "code",
   "execution_count": null,
   "metadata": {
    "colab": {
     "base_uri": "https://localhost:8080/"
    },
    "executionInfo": {
     "elapsed": 321,
     "status": "ok",
     "timestamp": 1717127518465,
     "user": {
      "displayName": "Samuel Guo",
      "userId": "00829638698112571372"
     },
     "user_tz": -480
    },
    "id": "mg1R5Xs866mE",
    "outputId": "e3056a4b-8101-4326-b780-12c86c9343a7"
   },
   "outputs": [],
   "source": [
    "print('After Cleaning')\n",
    "print('Train Data')\n",
    "print(f\"Num of Unique Items by Name: {df_train.itemDescription.str.lower().nunique()}\\n\")\n",
    "\n",
    "print(\"Test Data\")\n",
    "print(f\"Num of Unique Items by Name: {df_test.itemDescription.str.lower().nunique()}\\n\")\n",
    "\n",
    "print(\"All Data\")\n",
    "print(f\"Num of Unique Items by Name: {pd.concat([df_train, df_test]).itemDescription.str.lower().nunique()}\")"
   ]
  },
  {
   "cell_type": "code",
   "execution_count": null,
   "metadata": {
    "colab": {
     "base_uri": "https://localhost:8080/"
    },
    "executionInfo": {
     "elapsed": 11,
     "status": "ok",
     "timestamp": 1717127518465,
     "user": {
      "displayName": "Samuel Guo",
      "userId": "00829638698112571372"
     },
     "user_tz": -480
    },
    "id": "qTkc4DXA66mF",
    "outputId": "e5d9d499-0eb6-4de4-f0de-69a8a38fb9e4"
   },
   "outputs": [],
   "source": [
    "train_items = df_train.itemDescription.str.lower().unique()\n",
    "test_items = df_test.itemDescription.str.lower().unique()\n",
    "\n",
    "test_not_in_train_items = len([x for x in test_items if x not in train_items])\n",
    "print(f\"Number of items in test but not in train: {test_not_in_train_items}\")"
   ]
  },
  {
   "cell_type": "code",
   "execution_count": null,
   "metadata": {
    "colab": {
     "base_uri": "https://localhost:8080/"
    },
    "executionInfo": {
     "elapsed": 8,
     "status": "ok",
     "timestamp": 1717127518465,
     "user": {
      "displayName": "Samuel Guo",
      "userId": "00829638698112571372"
     },
     "user_tz": -480
    },
    "id": "pV_uqszF66mF",
    "outputId": "5ecd0b7f-15f1-47c0-af85-ef7e05dcfc26"
   },
   "outputs": [],
   "source": [
    "#check duplicates in train dataset\n",
    "df_train.duplicated().sum()"
   ]
  },
  {
   "cell_type": "code",
   "execution_count": null,
   "metadata": {
    "colab": {
     "base_uri": "https://localhost:8080/"
    },
    "executionInfo": {
     "elapsed": 6,
     "status": "ok",
     "timestamp": 1717127518466,
     "user": {
      "displayName": "Samuel Guo",
      "userId": "00829638698112571372"
     },
     "user_tz": -480
    },
    "id": "PcssbCdJ66mF",
    "outputId": "418d84ef-c27e-49e9-e936-849d38e279ec"
   },
   "outputs": [],
   "source": [
    "\n",
    "#check duplicates in test dataset\n",
    "df_test.duplicated().sum()"
   ]
  },
  {
   "cell_type": "code",
   "execution_count": null,
   "metadata": {
    "id": "Adwq-t9-66mF"
   },
   "outputs": [],
   "source": [
    "#drop duplicates\n",
    "df_train = df_train.drop_duplicates()\n",
    "df_test= df_test.drop_duplicates()"
   ]
  },
  {
   "cell_type": "code",
   "execution_count": null,
   "metadata": {
    "id": "0NFyl43B66mF"
   },
   "outputs": [],
   "source": [
    "df_train = df_train.applymap(lambda x: x.lower() if isinstance(x, str) else x)\n",
    "df_test = df_test.applymap(lambda x: x.lower() if isinstance(x, str) else x)"
   ]
  },
  {
   "cell_type": "code",
   "execution_count": null,
   "metadata": {
    "id": "viHuc7sp66mG"
   },
   "outputs": [],
   "source": [
    "# Drop unnecessary columns\n",
    "df_train = df_train[['Member_number', 'Date', 'itemDescription']]\n",
    "df_test = df_test[['Member_number', 'Date', 'itemDescription']]"
   ]
  },
  {
   "cell_type": "markdown",
   "metadata": {
    "id": "Jlpj82FigVcx"
   },
   "source": [
    "### 2.5.3 Long tail problems"
   ]
  },
  {
   "cell_type": "code",
   "execution_count": null,
   "metadata": {
    "colab": {
     "base_uri": "https://localhost:8080/"
    },
    "executionInfo": {
     "elapsed": 15,
     "status": "ok",
     "timestamp": 1717127518873,
     "user": {
      "displayName": "Samuel Guo",
      "userId": "00829638698112571372"
     },
     "user_tz": -480
    },
    "id": "a83EVEB_jVYM",
    "outputId": "c291d74c-6e3e-434f-8756-1148ae7965ba"
   },
   "outputs": [],
   "source": [
    "# Top 10 Popular Sold Items\n",
    "df = df_train.groupby([\"itemDescription\"])[\"itemDescription\"].count().sort_values(axis=0, ascending=False)\n",
    "df = df[:167,].sort_values(ascending=True)\n",
    "\n",
    "# Print as a table\n",
    "print(df.to_string())\n"
   ]
  },
  {
   "cell_type": "code",
   "execution_count": null,
   "metadata": {
    "colab": {
     "base_uri": "https://localhost:8080/"
    },
    "executionInfo": {
     "elapsed": 11,
     "status": "ok",
     "timestamp": 1717127518873,
     "user": {
      "displayName": "Samuel Guo",
      "userId": "00829638698112571372"
     },
     "user_tz": -480
    },
    "id": "Po6HsfQXjbvS",
    "outputId": "fd180509-4c26-4f06-dd31-0e74b211b18a"
   },
   "outputs": [],
   "source": [
    "df.describe()"
   ]
  },
  {
   "cell_type": "code",
   "execution_count": null,
   "metadata": {
    "colab": {
     "base_uri": "https://localhost:8080/",
     "height": 577
    },
    "executionInfo": {
     "elapsed": 2652,
     "status": "ok",
     "timestamp": 1717127521519,
     "user": {
      "displayName": "Samuel Guo",
      "userId": "00829638698112571372"
     },
     "user_tz": -480
    },
    "id": "VBkxkkeqjuej",
    "outputId": "0f4bffd8-4d1e-4b33-c22d-64c98c60d0eb"
   },
   "outputs": [],
   "source": [
    "fig = plt.figure(figsize=(10, 6))\n",
    "ax = df.plot(kind='bar')\n",
    "# Reset index to use integers instead of item names\n",
    "df = df.reset_index(drop=True)\n",
    "plt.axhline(y=10, color='red', linestyle='dashed', label='Q2 = 10')\n",
    "# Plot the long tail bar chart\n",
    "df.plot(kind='bar')\n",
    "ax.set_xticks([0, len(df)-1])\n",
    "plt.ylabel('Number of Sold Items')\n",
    "plt.xlabel('Item Index')\n",
    "plt.title('Long Tail Bar Chart of Item Sales')\n",
    "plt.show()"
   ]
  },
  {
   "cell_type": "code",
   "execution_count": null,
   "metadata": {
    "colab": {
     "base_uri": "https://localhost:8080/"
    },
    "executionInfo": {
     "elapsed": 7,
     "status": "ok",
     "timestamp": 1717127521519,
     "user": {
      "displayName": "Samuel Guo",
      "userId": "00829638698112571372"
     },
     "user_tz": -480
    },
    "id": "GH3PDLe-oBVB",
    "outputId": "7d5cc8f2-b79e-45a2-bf26-f21970f376d2"
   },
   "outputs": [],
   "source": [
    "threshold = 10\n",
    "\n",
    "# Count the number of buys for each item\n",
    "buy_counts = df_train['itemDescription'].value_counts()\n",
    "\n",
    "# Get the list of items in the long tail\n",
    "long_tail_items = buy_counts[buy_counts < threshold].index.tolist()\n",
    "\n",
    "print(f'Number of Long Tail Items: {len(long_tail_items)}')"
   ]
  },
  {
   "cell_type": "markdown",
   "metadata": {
    "id": "jgAT_Gyv66mG"
   },
   "source": [
    "### 2.6 Data Visualization"
   ]
  },
  {
   "cell_type": "code",
   "execution_count": null,
   "metadata": {
    "colab": {
     "base_uri": "https://localhost:8080/",
     "height": 490
    },
    "executionInfo": {
     "elapsed": 651,
     "status": "ok",
     "timestamp": 1717127522164,
     "user": {
      "displayName": "Samuel Guo",
      "userId": "00829638698112571372"
     },
     "user_tz": -480
    },
    "id": "jpEo0SQe66mG",
    "outputId": "b69b9ea2-78f9-406e-a7bf-1475ff58a17d"
   },
   "outputs": [],
   "source": [
    "# Top 10 Popular Sold Items\n",
    "df= df_train.groupby([\"itemDescription\"])[\"itemDescription\"].count().sort_values(axis= 0,ascending =False)\n",
    "df = df[:10,].sort_values(ascending = True)\n",
    "df.plot(kind = \"barh\")\n",
    "plt.ylabel('Itmes')\n",
    "plt.xlabel('Number of Sold Items')\n",
    "plt.title('Top 10 Popular Sold Items')"
   ]
  },
  {
   "cell_type": "code",
   "execution_count": null,
   "metadata": {
    "colab": {
     "base_uri": "https://localhost:8080/",
     "height": 490
    },
    "executionInfo": {
     "elapsed": 638,
     "status": "ok",
     "timestamp": 1717127522794,
     "user": {
      "displayName": "Samuel Guo",
      "userId": "00829638698112571372"
     },
     "user_tz": -480
    },
    "id": "A0ErRuVG66mG",
    "outputId": "dbaa1d1f-67ad-41c7-cbc4-1ec52021157c"
   },
   "outputs": [],
   "source": [
    "# Top 10 Member number\n",
    "df= df_train.groupby([\"Member_number\"])[\"Member_number\"].count().sort_values(axis= 0,ascending =False)\n",
    "df = df[:10,].sort_values(ascending = True)\n",
    "df.plot(kind = \"barh\")\n",
    "plt.ylabel('Member Number')\n",
    "plt.xlabel('Number of Purchased Items')\n",
    "plt.title('Top 10 Member number')"
   ]
  },
  {
   "cell_type": "markdown",
   "metadata": {
    "id": "0cnOHZUSt7Zj"
   },
   "source": [
    "## Frequent pattern mining"
   ]
  },
  {
   "cell_type": "code",
   "execution_count": null,
   "metadata": {
    "id": "Yf1GiEZ5vPco"
   },
   "outputs": [],
   "source": [
    "from mlxtend.preprocessing import TransactionEncoder\n",
    "from mlxtend.frequent_patterns import apriori, fpmax, fpgrowth\n",
    "import seaborn as sns\n",
    "from mlxtend.frequent_patterns import apriori, association_rules\n",
    "\n",
    "from mlxtend.preprocessing import TransactionEncoder\n",
    "test_transactions = df_test.groupby('Member_number')['itemDescription'].apply(list).tolist()\n",
    "train_transactions = df_train.groupby('Member_number')['itemDescription'].apply(list).tolist()"
   ]
  },
  {
   "cell_type": "code",
   "execution_count": null,
   "metadata": {
    "colab": {
     "base_uri": "https://localhost:8080/"
    },
    "executionInfo": {
     "elapsed": 4,
     "status": "ok",
     "timestamp": 1717127524015,
     "user": {
      "displayName": "Samuel Guo",
      "userId": "00829638698112571372"
     },
     "user_tz": -480
    },
    "id": "8q6YrKCfwFwD",
    "outputId": "0a014fc7-1994-47d2-ede3-7d81b57dacb6"
   },
   "outputs": [],
   "source": [
    "te = TransactionEncoder()\n",
    "te.fit(train_transactions)\n",
    "train_ary = te.transform(train_transactions)\n",
    "train_df = pd.DataFrame(train_ary, columns=te.columns_)\n",
    "test_ary = te.transform(test_transactions)\n",
    "test_df = pd.DataFrame(test_ary, columns=te.columns_)"
   ]
  },
  {
   "cell_type": "code",
   "execution_count": null,
   "metadata": {
    "colab": {
     "base_uri": "https://localhost:8080/"
    },
    "executionInfo": {
     "elapsed": 1174,
     "status": "ok",
     "timestamp": 1717127525186,
     "user": {
      "displayName": "Samuel Guo",
      "userId": "00829638698112571372"
     },
     "user_tz": -480
    },
    "id": "A5VNoI_qwW6W",
    "outputId": "502e524e-cec4-482d-9534-0368369273c0"
   },
   "outputs": [],
   "source": [
    "from mlxtend.frequent_patterns import apriori\n",
    "test_frequentitemsets = apriori(test_df, min_support=0.01, use_colnames=False)\n",
    "train_frequentitemsets = apriori(train_df, min_support=0.01, use_colnames=False)\n",
    "print(test_frequentitemsets.head(10))"
   ]
  },
  {
   "cell_type": "code",
   "execution_count": null,
   "metadata": {
    "colab": {
     "base_uri": "https://localhost:8080/"
    },
    "executionInfo": {
     "elapsed": 12,
     "status": "ok",
     "timestamp": 1717127525187,
     "user": {
      "displayName": "Samuel Guo",
      "userId": "00829638698112571372"
     },
     "user_tz": -480
    },
    "id": "Dso_4hlWwqdR",
    "outputId": "ce885f8f-2ca8-495a-a16d-31ecd6e6c36f"
   },
   "outputs": [],
   "source": [
    "test_basket = (df_test\n",
    "          .groupby(['Member_number', 'itemDescription'])['itemDescription']\n",
    "          .count().unstack().reset_index().fillna(0)\n",
    "          .set_index('Member_number'))"
   ]
  },
  {
   "cell_type": "code",
   "execution_count": null,
   "metadata": {
    "colab": {
     "base_uri": "https://localhost:8080/"
    },
    "executionInfo": {
     "elapsed": 9,
     "status": "ok",
     "timestamp": 1717127525187,
     "user": {
      "displayName": "Samuel Guo",
      "userId": "00829638698112571372"
     },
     "user_tz": -480
    },
    "id": "bY2OMnf2wu_p",
    "outputId": "3ddbf52c-3cfe-4117-aa1f-96d1843e1669"
   },
   "outputs": [],
   "source": [
    "train_basket = (df_train\n",
    "          .groupby(['Member_number', 'itemDescription'])['itemDescription']\n",
    "          .count().unstack().reset_index().fillna(0)\n",
    "          .set_index('Member_number'))"
   ]
  },
  {
   "cell_type": "code",
   "execution_count": null,
   "metadata": {
    "colab": {
     "base_uri": "https://localhost:8080/"
    },
    "executionInfo": {
     "elapsed": 979,
     "status": "ok",
     "timestamp": 1717127526160,
     "user": {
      "displayName": "Samuel Guo",
      "userId": "00829638698112571372"
     },
     "user_tz": -480
    },
    "id": "ojlvPzR5xPKb",
    "outputId": "d09ca7e2-f9b6-4c3e-c9fd-7f090b148720"
   },
   "outputs": [],
   "source": [
    "test_basket_sets = test_basket.applymap(lambda x: 1 if x > 0 else 0)\n",
    "test_rules = association_rules(test_frequentitemsets, metric=\"confidence\", min_threshold=0.1)\n",
    "print(test_frequentitemsets.sort_values(by='support', ascending=False).head())\n",
    "print(test_rules.sort_values(by='confidence', ascending=False).head())\n",
    "test_results = list(test_rules.itertuples(index=False, name=None))\n",
    "test_results_df = pd.DataFrame(test_results)\n",
    "\n",
    "print(test_results_df)\n",
    "data_chunk = test_results_df\n",
    "data_chunk.to_csv('association_rules.csv', index=False)"
   ]
  },
  {
   "cell_type": "code",
   "execution_count": null,
   "metadata": {
    "colab": {
     "base_uri": "https://localhost:8080/"
    },
    "executionInfo": {
     "elapsed": 20,
     "status": "ok",
     "timestamp": 1717127526161,
     "user": {
      "displayName": "Samuel Guo",
      "userId": "00829638698112571372"
     },
     "user_tz": -480
    },
    "id": "_aFFnooIxY5G",
    "outputId": "db3cc9b5-b821-4f43-da13-7c31a8a0d9d7"
   },
   "outputs": [],
   "source": []
  },
  {
   "cell_type": "markdown",
   "metadata": {
    "id": "T7k6onZ-ub2Z"
   },
   "source": [
    "## Collaborative filtering"
   ]
  },
  {
   "cell_type": "markdown",
   "metadata": {
    "id": "FW1ubdXcH2dg"
   },
   "source": [
    "#### Create user-item matrix"
   ]
  },
  {
   "cell_type": "code",
   "execution_count": null,
   "metadata": {
    "colab": {
     "base_uri": "https://localhost:8080/",
     "height": 437
    },
    "executionInfo": {
     "elapsed": 13979,
     "status": "ok",
     "timestamp": 1717127540134,
     "user": {
      "displayName": "Samuel Guo",
      "userId": "00829638698112571372"
     },
     "user_tz": -480
    },
    "id": "nXiMwbt5wjyl",
    "outputId": "50f28860-8d26-4a1c-87d5-8dd5d53bd304"
   },
   "outputs": [],
   "source": [
    "# identify the users unique to the test set\n",
    "unique_users = df_train['Member_number'].unique()\n",
    "unique_items = df_train['itemDescription'].unique()\n",
    "\n",
    "user_item_matrix = pd.DataFrame(index=unique_users, columns=unique_items)\n",
    "\n",
    "# iterate over the rows in the train set and fill in the user-item matrix\n",
    "for index, row in df_train.iterrows():\n",
    "    user_id = row['Member_number']\n",
    "    item_id = row['itemDescription']\n",
    "    rating = np.array([1])\n",
    "    user_item_matrix.loc[user_id, item_id] = rating\n",
    "\n",
    "# fill in the missing values with 0\n",
    "user_item_matrix.fillna(0, inplace=True)\n",
    "\n",
    "# check the user-item matrix\n",
    "user_item_matrix.iloc[:10, :20]"
   ]
  },
  {
   "cell_type": "code",
   "execution_count": null,
   "metadata": {
    "colab": {
     "base_uri": "https://localhost:8080/"
    },
    "executionInfo": {
     "elapsed": 42,
     "status": "ok",
     "timestamp": 1717127540134,
     "user": {
      "displayName": "Samuel Guo",
      "userId": "00829638698112571372"
     },
     "user_tz": -480
    },
    "id": "dsm1CeWUJgF5",
    "outputId": "71b58e19-aad0-4a37-8220-9d61b0193643"
   },
   "outputs": [],
   "source": [
    "user_item_matrix_array = user_item_matrix.values\n",
    "user_item_matrix_array"
   ]
  },
  {
   "cell_type": "code",
   "execution_count": null,
   "metadata": {
    "colab": {
     "base_uri": "https://localhost:8080/"
    },
    "executionInfo": {
     "elapsed": 40,
     "status": "ok",
     "timestamp": 1717127540134,
     "user": {
      "displayName": "Samuel Guo",
      "userId": "00829638698112571372"
     },
     "user_tz": -480
    },
    "id": "jTrOPapCJkYZ",
    "outputId": "4b344c5d-7b18-4e1a-ecf1-429e8d09e684"
   },
   "outputs": [],
   "source": [
    "user_item_matrix_customers = user_item_matrix.index\n",
    "user_item_matrix_customers"
   ]
  },
  {
   "cell_type": "markdown",
   "metadata": {
    "id": "QfDwfMQoHwwf"
   },
   "source": [
    "\n",
    "Implementation algorithm reference: the movie recommender system solution in week 10."
   ]
  },
  {
   "cell_type": "code",
   "execution_count": null,
   "metadata": {
    "colab": {
     "base_uri": "https://localhost:8080/"
    },
    "executionInfo": {
     "elapsed": 36,
     "status": "ok",
     "timestamp": 1717127540134,
     "user": {
      "displayName": "Samuel Guo",
      "userId": "00829638698112571372"
     },
     "user_tz": -480
    },
    "id": "p1gmkTwAJnv5",
    "outputId": "157cf1b2-b6b1-449f-f190-59e4468967ab"
   },
   "outputs": [],
   "source": [
    "def similarity(user1, user2):\n",
    "    # Calculate the dot product of the two user vectors\n",
    "    dot_product = np.dot(user1, user2)\n",
    "    # Calculate the magnitude of the two user vectors\n",
    "    magnitude = np.sqrt(np.sum(user1 ** 2) * np.sum(user2 ** 2))\n",
    "    # Calculate the similarity between the two users\n",
    "    similarity = dot_product/magnitude\n",
    "    return similarity"
   ]
  },
  {
   "cell_type": "code",
   "execution_count": null,
   "metadata": {
    "colab": {
     "base_uri": "https://localhost:8080/"
    },
    "executionInfo": {
     "elapsed": 32,
     "status": "ok",
     "timestamp": 1717127540134,
     "user": {
      "displayName": "Samuel Guo",
      "userId": "00829638698112571372"
     },
     "user_tz": -480
    },
    "id": "Mmry6MWLJtX9",
    "outputId": "d6ef7c9f-0cca-434c-e0c7-d3d99d82c093"
   },
   "outputs": [],
   "source": [
    "def predict_rating(user_ratings, item_ratings):\n",
    "    # find the indices of the items that have been bought\n",
    "    rated_indices = np.where(item_ratings != 0)[0]\n",
    "\n",
    "    # get the quantity of the items that have been bought\n",
    "    ratings = item_ratings[rated_indices]\n",
    "\n",
    "    rated_users = user_ratings[rated_indices]\n",
    "\n",
    "    # calculate similarities\n",
    "    similarities = [similarity(user_ratings[0], rated_users[i]) for i in range(len(rated_indices))]\n",
    "\n",
    "    # using similarities to calculate the weighted sum\n",
    "    weighted_sum = np.dot(similarities, ratings)\n",
    "    weighted_sum /= np.sum(similarities)\n",
    "    return weighted_sum"
   ]
  },
  {
   "cell_type": "code",
   "execution_count": null,
   "metadata": {
    "colab": {
     "base_uri": "https://localhost:8080/"
    },
    "executionInfo": {
     "elapsed": 29,
     "status": "ok",
     "timestamp": 1717127540135,
     "user": {
      "displayName": "Samuel Guo",
      "userId": "00829638698112571372"
     },
     "user_tz": -480
    },
    "id": "CafHXtCKJwr6",
    "outputId": "aa7f363a-8951-412e-c223-b549be287bef"
   },
   "outputs": [],
   "source": [
    "def recommend_items(user_ratings, target_user):\n",
    "    num_users, num_movies = user_ratings.shape\n",
    "\n",
    "    # find the unboughted items\n",
    "    unwatched_indices = np.where(user_ratings[target_user] == 0)[0]\n",
    "\n",
    "    # predict the ratings for the unboughted items\n",
    "    predicted_ratings = [predict_rating(user_ratings, user_ratings[:, movie_index]) for movie_index in unwatched_indices]\n",
    "\n",
    "    # ranking\n",
    "    sorted_indices = np.argsort(predicted_ratings)[::-1]\n",
    "\n",
    "    top_items = sorted_indices[:15]\n",
    "    # recommended_movies = [f\"Items {i+1}\" for i in top_items]\n",
    "\n",
    "    recommended_movies = [user_item_matrix.columns[i] for i in top_items]\n",
    "\n",
    "    return recommended_movies"
   ]
  },
  {
   "cell_type": "markdown",
   "metadata": {
    "id": "Rs5nwjCjHbU2"
   },
   "source": [
    "###   Evaluation"
   ]
  },
  {
   "cell_type": "markdown",
   "metadata": {
    "id": "pP2qHDl5HhyP"
   },
   "source": [
    "There are a total of k items that are recommended to a user, and the MAP is the average of their precision at k. It is also known as the Normalized Discounted Cumulative Gain (NDCG), and it is used to measure the quality of ranking systems. Using the position of the relevant items, it measures the performance of a recommendation system (shaped.ai, n.d.) (Dhinakaran, 2023)."
   ]
  },
  {
   "cell_type": "code",
   "execution_count": null,
   "metadata": {
    "colab": {
     "base_uri": "https://localhost:8080/"
    },
    "executionInfo": {
     "elapsed": 25,
     "status": "ok",
     "timestamp": 1717127540135,
     "user": {
      "displayName": "Samuel Guo",
      "userId": "00829638698112571372"
     },
     "user_tz": -480
    },
    "id": "CUaVrEMGRI4a",
    "outputId": "36d33a1d-dda2-4b94-cbe0-f547499930a3"
   },
   "outputs": [],
   "source": [
    "# Function to calculate Average Precision (AP) for a single user\n",
    "def average_precision(actual, predicted, k=10):\n",
    "    # Check if the actual list of items is empty\n",
    "    if actual.size == 0:\n",
    "        return 0.0\n",
    "\n",
    "    actual_set = set(actual)  # Convert actual items to a set for faster lookup\n",
    "    predicted = predicted[:k]  # Consider only the top-k predicted items\n",
    "    score = 0.0  # Initialize the AP score\n",
    "    num_hits = 0.0  # Count of true positives\n",
    "\n",
    "    # Iterate through the predicted items\n",
    "    for i, p in enumerate(predicted):\n",
    "        if p in actual_set and p not in predicted[:i]:  # Check if the predicted item is a true positive\n",
    "            num_hits += 1.0  # Increment the count of true positives\n",
    "            score += num_hits / (i + 1.0)  # Update the AP score\n",
    "\n",
    "    # Return the average precision\n",
    "    return score / min(len(actual), k)\n",
    "\n",
    "# Function to calculate Discounted Cumulative Gain (DCG)\n",
    "def dcg(relevance, k=10):\n",
    "    relevance = np.asarray(relevance)[:k]  # Consider only the top-k relevance scores\n",
    "    if relevance.size:  # Check if the relevance array is not empty\n",
    "        # Compute the DCG using the logarithmic discount\n",
    "        return np.sum(relevance / np.log2(np.arange(2, relevance.size + 2)))\n",
    "    return 0.0  # Return 0 if there are no relevance scores\n",
    "\n",
    "# Function to calculate Normalized Discounted Cumulative Gain (NDCG)\n",
    "def ndcg(actual, predicted, k=10):\n",
    "    actual_set = set(actual)  # Convert actual items to a set for faster lookup\n",
    "\n",
    "    # Create a binary relevance list where 1 indicates relevance and 0 indicates non-relevance\n",
    "    relevance = [1 if item in actual_set else 0 for item in predicted]\n",
    "\n",
    "    # Create the ideal relevance list by sorting in descending order\n",
    "    ideal_relevance = sorted(relevance, reverse=True)\n",
    "\n",
    "    # Calculate the ideal DCG and actual DCG\n",
    "    ideal_dcg = dcg(ideal_relevance, k)\n",
    "    actual_dcg = dcg(relevance, k)\n",
    "\n",
    "    # Return the normalized DCG\n",
    "    return actual_dcg / ideal_dcg if ideal_dcg > 0 else 0"
   ]
  },
  {
   "cell_type": "code",
   "execution_count": null,
   "metadata": {
    "colab": {
     "base_uri": "https://localhost:8080/"
    },
    "executionInfo": {
     "elapsed": 22,
     "status": "ok",
     "timestamp": 1717127540135,
     "user": {
      "displayName": "Samuel Guo",
      "userId": "00829638698112571372"
     },
     "user_tz": -480
    },
    "id": "vZs23g_cEYGl",
    "outputId": "a0b2a2c3-b093-4796-b966-f9c25c21091a"
   },
   "outputs": [],
   "source": [
    "item_total_purchase = df_test.groupby([\"itemDescription\"])[\"itemDescription\"].count().sort_values(axis= 0,ascending =False)\n",
    "\n",
    "popular_items = item_total_purchase[:10,].sort_values(ascending = True)\n",
    "\n",
    "df_test = df_test[df_test['itemDescription'].isin(popular_items.index)]"
   ]
  },
  {
   "cell_type": "code",
   "execution_count": null,
   "metadata": {
    "colab": {
     "base_uri": "https://localhost:8080/"
    },
    "executionInfo": {
     "elapsed": 18,
     "status": "ok",
     "timestamp": 1717127540135,
     "user": {
      "displayName": "Samuel Guo",
      "userId": "00829638698112571372"
     },
     "user_tz": -480
    },
    "id": "QQsXgWasLtEZ",
    "outputId": "dbb213a2-0d90-4179-852a-350c55e91719"
   },
   "outputs": [],
   "source": [
    "df_test.info()"
   ]
  },
  {
   "cell_type": "code",
   "execution_count": null,
   "metadata": {
    "colab": {
     "base_uri": "https://localhost:8080/",
     "height": 419
    },
    "executionInfo": {
     "elapsed": 2367,
     "status": "ok",
     "timestamp": 1717127542489,
     "user": {
      "displayName": "Samuel Guo",
      "userId": "00829638698112571372"
     },
     "user_tz": -480
    },
    "id": "2vLKHXeDL09i",
    "outputId": "29107133-3b4c-42f6-b521-48e5fd85c905"
   },
   "outputs": [],
   "source": [
    "# identify the users unique to the test set\n",
    "unique_users = df_test['Member_number'].unique()\n",
    "unique_items = df_test['itemDescription'].unique()\n",
    "\n",
    "user_item_matrix = pd.DataFrame(index=unique_users, columns=unique_items)\n",
    "\n",
    "# iterate over the rows in the train set and fill in the user-item matrix\n",
    "for index, row in df_test.iterrows():\n",
    "    user_id = row['Member_number']\n",
    "    item_id = row['itemDescription']\n",
    "    rating = np.array([1])\n",
    "    user_item_matrix.loc[user_id, item_id] = rating\n",
    "\n",
    "# fill in the missing values with 0\n",
    "user_item_matrix.fillna(0, inplace=True)\n",
    "\n",
    "# check the user-item matrix\n",
    "user_item_matrix.iloc[:10, :20]"
   ]
  },
  {
   "cell_type": "code",
   "execution_count": null,
   "metadata": {
    "colab": {
     "base_uri": "https://localhost:8080/"
    },
    "executionInfo": {
     "elapsed": 18,
     "status": "ok",
     "timestamp": 1717127542490,
     "user": {
      "displayName": "Samuel Guo",
      "userId": "00829638698112571372"
     },
     "user_tz": -480
    },
    "id": "a80bNCbYO-S6",
    "outputId": "75fbdbf3-180f-421c-b6b5-f87b8f4855c0"
   },
   "outputs": [],
   "source": [
    "user_item_matrix_array = user_item_matrix.values\n",
    "user_item_matrix_array"
   ]
  },
  {
   "cell_type": "code",
   "execution_count": null,
   "metadata": {
    "colab": {
     "base_uri": "https://localhost:8080/"
    },
    "executionInfo": {
     "elapsed": 17,
     "status": "ok",
     "timestamp": 1717127542490,
     "user": {
      "displayName": "Samuel Guo",
      "userId": "00829638698112571372"
     },
     "user_tz": -480
    },
    "id": "wKElV0XBPAJ-",
    "outputId": "7ca8854f-7144-4d5d-824e-d6e5e6dbad77"
   },
   "outputs": [],
   "source": [
    "user_item_matrix_customers = user_item_matrix.index\n",
    "user_item_matrix_customers"
   ]
  },
  {
   "cell_type": "code",
   "execution_count": null,
   "metadata": {
    "colab": {
     "base_uri": "https://localhost:8080/"
    },
    "executionInfo": {
     "elapsed": 13,
     "status": "ok",
     "timestamp": 1717127542490,
     "user": {
      "displayName": "Samuel Guo",
      "userId": "00829638698112571372"
     },
     "user_tz": -480
    },
    "id": "pCNlqUrGR9iL",
    "outputId": "c5314324-df73-4d5d-b872-cca09816cc85"
   },
   "outputs": [],
   "source": [
    "# Randomly select 5 users from the test set\n",
    "np.random.seed(42)  # Set seed for reproducibility\n",
    "random_users = np.random.choice(range(user_item_matrix_array.shape[0]), 5, replace=False)\n",
    "print(f\"Random Member_number from test dataset:\\n{random_users}\")"
   ]
  },
  {
   "cell_type": "markdown",
   "metadata": {
    "id": "7908VSa4Xa4i"
   },
   "source": [
    "## Collaborative Filtering---- Recommendation"
   ]
  },
  {
   "cell_type": "code",
   "execution_count": null,
   "metadata": {
    "colab": {
     "base_uri": "https://localhost:8080/"
    },
    "executionInfo": {
     "elapsed": 1551,
     "status": "ok",
     "timestamp": 1717127544032,
     "user": {
      "displayName": "Samuel Guo",
      "userId": "00829638698112571372"
     },
     "user_tz": -480
    },
    "id": "S3SIicUEPDmP",
    "outputId": "0571feb5-926e-46d4-e2f0-e605ac5d3cf6"
   },
   "outputs": [],
   "source": [
    "total_precision = 0\n",
    "total_recall = 0\n",
    "total_map = 0\n",
    "total_ndcg = 0\n",
    "total_users = 0\n",
    "\n",
    "\n",
    "for user in random_users:\n",
    "    recommended_items = recommend_items(user_item_matrix_array, user)\n",
    "    be_recommended_user = user_item_matrix_customers[user]\n",
    "    actual_items = df_test[df_test['Member_number'] == be_recommended_user]['itemDescription'].unique()\n",
    "\n",
    "    # calculate the true positive and false positive\n",
    "    tp = len(set(recommended_items) & set(actual_items))\n",
    "    fp = len(recommended_items) - tp\n",
    "\n",
    "    if len(actual_items) == 0:\n",
    "        continue\n",
    "\n",
    "    # calculate the recall\n",
    "    fn = len(actual_items) - tp\n",
    "    recall = tp / (tp + fn)\n",
    "\n",
    "    # calculate the precision\n",
    "    if (tp + fp) > 0:\n",
    "        precision = tp / (tp + fp)\n",
    "        total_precision += precision\n",
    "        total_recall += recall\n",
    "\n",
    "    # calculate MAP\n",
    "    ap = average_precision(actual_items, recommended_items)\n",
    "    total_map += ap\n",
    "\n",
    "    # calculate NDCG\n",
    "    ndcg_score = ndcg(actual_items, recommended_items)\n",
    "    total_ndcg += ndcg_score\n",
    "\n",
    "    total_users += 1\n",
    "\n",
    "    print(\"User ID:\", be_recommended_user)\n",
    "    print(\"Recommended items:\", recommended_items)\n",
    "    print(\"Actual items:\", actual_items)\n",
    "    print(\"AP:\", ap)\n",
    "    print(\"NDCG:\", ndcg_score)\n",
    "    print()\n",
    "\n",
    "average_precision = total_precision / total_users if total_users > 0 else 0\n",
    "average_recall = total_recall / total_users if total_users > 0 else 0\n",
    "mean_average_precision = total_map / total_users if total_users > 0 else 0\n",
    "mean_ndcg = total_ndcg / total_users if total_users > 0 else 0\n",
    "\n",
    "print(\"Average Precision:\", average_precision)\n",
    "print(\"Average Recall:\", average_recall)\n",
    "print(\"Mean Average Precision (MAP):\", mean_average_precision)\n",
    "print(\"Mean NDCG:\", mean_ndcg)"
   ]
  },
  {
   "cell_type": "markdown",
   "metadata": {
    "id": "L-X91Df8QY4K"
   },
   "source": [
    "## Pattern --- recommandations"
   ]
  },
  {
   "cell_type": "code",
   "execution_count": null,
   "metadata": {
    "colab": {
     "base_uri": "https://localhost:8080/"
    },
    "executionInfo": {
     "elapsed": 10,
     "status": "ok",
     "timestamp": 1717127544033,
     "user": {
      "displayName": "Samuel Guo",
      "userId": "00829638698112571372"
     },
     "user_tz": -480
    },
    "id": "jqfaD8ZIYtHF",
    "outputId": "7a13c4bf-f802-45ac-df60-89b9aab9afac"
   },
   "outputs": [],
   "source": [
    "#Here we use the association rule generated by groupmate 1. We read the rule from the csv file and generate the recommandations\n",
    "rules= pd.read_csv('https://raw.githubusercontent.com/LDSamuelGuo/ANLP/main/formatted_association_rules.csv')\n",
    "\n",
    "rules.columns"
   ]
  },
  {
   "cell_type": "code",
   "execution_count": null,
   "metadata": {
    "colab": {
     "base_uri": "https://localhost:8080/",
     "height": 480
    },
    "executionInfo": {
     "elapsed": 701,
     "status": "ok",
     "timestamp": 1717127544730,
     "user": {
      "displayName": "Samuel Guo",
      "userId": "00829638698112571372"
     },
     "user_tz": -480
    },
    "id": "mfzns3HtDypQ",
    "outputId": "5d3e6df5-f2ce-40a7-9339-ffe412a0c8d8"
   },
   "outputs": [],
   "source": [
    "test_rules =pd.read_csv(\"https://raw.githubusercontent.com/LDSamuelGuo/ANLP/main/formatted_association_rules.csv\")\n",
    "test_rules[\"antecedents\"]=test_rules[\"antecedents\"].replace(\"frozenset({''})\", '')\n",
    "test_rules"
   ]
  },
  {
   "cell_type": "code",
   "execution_count": null,
   "metadata": {
    "colab": {
     "base_uri": "https://localhost:8080/"
    },
    "executionInfo": {
     "elapsed": 23,
     "status": "ok",
     "timestamp": 1717127544731,
     "user": {
      "displayName": "Samuel Guo",
      "userId": "00829638698112571372"
     },
     "user_tz": -480
    },
    "id": "hHGvWhFxWeQc",
    "outputId": "b5df4eda-5f2d-45fd-d6d5-2bc2354e1244"
   },
   "outputs": [],
   "source": [
    "#get recommandations from association rule\n",
    "def rule_recommandation(rules,user_itemset,n):\n",
    "    rules = rules.sort_values(by='confidence', ascending=False)\n",
    "    filtered_rules = rules[rules['antecedents'] == user_itemset]\n",
    "    # Select top recommendations from the filtered rules\n",
    "    if (len(filtered_rules)==0):\n",
    "        confidence=0\n",
    "        top_recommendations=\"\"\n",
    "    else:\n",
    "        top_recommendations = filtered_rules.head(n)['consequents'].tolist()\n",
    "        confidence = filtered_rules.head(n)['confidence'].tolist()\n",
    "    return confidence,top_recommendations"
   ]
  },
  {
   "cell_type": "code",
   "execution_count": null,
   "metadata": {
    "colab": {
     "base_uri": "https://localhost:8080/"
    },
    "executionInfo": {
     "elapsed": 20,
     "status": "ok",
     "timestamp": 1717127544731,
     "user": {
      "displayName": "Samuel Guo",
      "userId": "00829638698112571372"
     },
     "user_tz": -480
    },
    "id": "9-7bAw0uWoPs",
    "outputId": "09f95de9-cf8f-4431-9f32-e1a8674972f2"
   },
   "outputs": [],
   "source": [
    "confidence,rec= rule_recommandation(rules,\"frozenset({'whole milk'})\",5)\n",
    "result=pd.DataFrame(columns=[\"Recommandation\",\"Confidence\"])\n",
    "result[\"Recommandation\"]=rec\n",
    "result[\"Confidence\"]=confidence"
   ]
  },
  {
   "cell_type": "code",
   "execution_count": null,
   "metadata": {
    "colab": {
     "base_uri": "https://localhost:8080/",
     "height": 263
    },
    "executionInfo": {
     "elapsed": 15,
     "status": "ok",
     "timestamp": 1717127544731,
     "user": {
      "displayName": "Samuel Guo",
      "userId": "00829638698112571372"
     },
     "user_tz": -480
    },
    "id": "KuTL7K_tWr4r",
    "outputId": "33f4c6cd-b7f8-47d4-8b69-ff1c5a300f7d"
   },
   "outputs": [],
   "source": [
    "#result from association rule pattern\n",
    "result"
   ]
  },
  {
   "cell_type": "code",
   "execution_count": null,
   "metadata": {
    "colab": {
     "base_uri": "https://localhost:8080/"
    },
    "executionInfo": {
     "elapsed": 58240,
     "status": "ok",
     "timestamp": 1717127602962,
     "user": {
      "displayName": "Samuel Guo",
      "userId": "00829638698112571372"
     },
     "user_tz": -480
    },
    "id": "w-9P7d6nWwUa",
    "outputId": "0df6f969-c18a-4e11-f22c-117c0f68ee2e"
   },
   "outputs": [],
   "source": [
    "new_test_data = df_train.reset_index(drop=True)\n",
    "result=pd.DataFrame(columns=[\"itemDescription\",\"predicted_item\",\"Confidence\"])\n",
    "for i in range(len(new_test_data)):\n",
    "    tmp=new_test_data.loc[i]\n",
    "    item=tmp[\"itemDescription\"]\n",
    "    frozen_set = str(frozenset([item]))\n",
    "    confidence,rec= rule_recommandation(rules,frozen_set,1)\n",
    "    rec=str(rec)\n",
    "    res={\"itemDescription\":item,\"predicted_item\":rec,\"Confidence\":confidence}\n",
    "    result = pd.concat([result, pd.DataFrame(res, index=[0])], ignore_index=True)"
   ]
  },
  {
   "cell_type": "code",
   "execution_count": null,
   "metadata": {
    "colab": {
     "base_uri": "https://localhost:8080/",
     "height": 480
    },
    "executionInfo": {
     "elapsed": 21,
     "status": "ok",
     "timestamp": 1717127602963,
     "user": {
      "displayName": "Samuel Guo",
      "userId": "00829638698112571372"
     },
     "user_tz": -480
    },
    "id": "7YLj2G4LXmkm",
    "outputId": "6dd50539-0eea-4321-dfc1-9f7f614a0b91"
   },
   "outputs": [],
   "source": [
    "result"
   ]
  },
  {
   "cell_type": "code",
   "execution_count": null,
   "metadata": {
    "colab": {
     "base_uri": "https://localhost:8080/",
     "height": 480
    },
    "executionInfo": {
     "elapsed": 18,
     "status": "ok",
     "timestamp": 1717127602964,
     "user": {
      "displayName": "Samuel Guo",
      "userId": "00829638698112571372"
     },
     "user_tz": -480
    },
    "id": "vGaYd0SaXsMB",
    "outputId": "8650ebd1-5803-4301-8810-05b763aeb36f"
   },
   "outputs": [],
   "source": [
    "result_df = result[result['Confidence'] != 0]\n",
    "result_df"
   ]
  },
  {
   "cell_type": "code",
   "execution_count": null,
   "metadata": {
    "colab": {
     "base_uri": "https://localhost:8080/",
     "height": 547
    },
    "executionInfo": {
     "elapsed": 13,
     "status": "ok",
     "timestamp": 1717127602964,
     "user": {
      "displayName": "Samuel Guo",
      "userId": "00829638698112571372"
     },
     "user_tz": -480
    },
    "id": "HgSiImxQXxQq",
    "outputId": "9eebd800-3d70-46d9-9456-db2f39d2174a"
   },
   "outputs": [],
   "source": [
    "# Top 10 Popular Sold Items\n",
    "df= result_df.groupby([\"predicted_item\"])[\"predicted_item\"].count().sort_values(axis= 0,ascending =False)\n",
    "df = df[:10,].sort_values(ascending = True)\n",
    "df.plot(kind = \"barh\")\n",
    "plt.ylabel('Itmes')\n",
    "plt.xlabel('Number of Predicted Items')\n",
    "plt.title('Top 10 Popular Predicted Items')"
   ]
  },
  {
   "cell_type": "code",
   "execution_count": null,
   "metadata": {
    "colab": {
     "base_uri": "https://localhost:8080/",
     "height": 547
    },
    "executionInfo": {
     "elapsed": 7881,
     "status": "ok",
     "timestamp": 1717127610835,
     "user": {
      "displayName": "Samuel Guo",
      "userId": "00829638698112571372"
     },
     "user_tz": -480
    },
    "id": "8lDDs2cYYJAc",
    "outputId": "c7d5b4a8-6c66-4889-e9c5-567ba3bdd6af"
   },
   "outputs": [],
   "source": [
    "#test_data recommendation, Top 5 for each item\n",
    "new_test_data = df_test.reset_index(drop=True)\n",
    "result=pd.DataFrame(columns=[\"itemDescription\",\"predicted_item\",\"Confidence\"])\n",
    "for i in range(len(new_test_data)):\n",
    "    tmp=new_test_data.loc[i]\n",
    "    item=tmp[\"itemDescription\"]\n",
    "    frozen_set = str(frozenset([item]))\n",
    "    confidence,rec= rule_recommandation(rules,frozen_set,1)\n",
    "    rec=str(rec)\n",
    "    res={\"itemDescription\":item,\"predicted_item\":rec,\"Confidence\":confidence}\n",
    "    result = pd.concat([result, pd.DataFrame(res, index=[0])], ignore_index=True)\n",
    "result_df = result[result['Confidence'] != 0]\n",
    "result_df\n",
    "# Top 10 Popular Sold Items\n",
    "df= result_df.groupby([\"predicted_item\"])[\"predicted_item\"].count().sort_values(axis= 0,ascending =False)\n",
    "df = df[:10,].sort_values(ascending = True)\n",
    "df.plot(kind = \"barh\")\n",
    "plt.ylabel('Itmes')\n",
    "plt.xlabel('Number of Predicted Items')\n",
    "plt.title('Top 10 Popular Predicted Items')"
   ]
  },
  {
   "cell_type": "code",
   "execution_count": null,
   "metadata": {
    "colab": {
     "base_uri": "https://localhost:8080/",
     "height": 480
    },
    "executionInfo": {
     "elapsed": 23,
     "status": "ok",
     "timestamp": 1717127610836,
     "user": {
      "displayName": "Samuel Guo",
      "userId": "00829638698112571372"
     },
     "user_tz": -480
    },
    "id": "jdSrnWiLYt5Q",
    "outputId": "080912ac-72d9-46ba-9d33-a902ca9d9978"
   },
   "outputs": [],
   "source": [
    "result_df"
   ]
  },
  {
   "cell_type": "markdown",
   "metadata": {
    "id": "f8rfyyuEQlFT"
   },
   "source": [
    "## References"
   ]
  },
  {
   "cell_type": "markdown",
   "metadata": {
    "id": "Mo2exlu3Qpmv"
   },
   "source": [
    "* www.shaped.ai. (n.d.). Evaluating recommendation systems (mAP, MMR, NDCG) | Shaped Blog. [online] Available at: https://www.shaped.ai/blog/evaluating-recommendation-systems-map-mmr-ndcg.\n",
    "* Dhinakaran, A. (2023). Demystifying NDCG. [online] Medium. Available at: https://towardsdatascience.com/demystifying-ndcg-bee3be58cfe0."
   ]
  }
 ],
 "metadata": {
  "colab": {
   "provenance": []
  },
  "kernelspec": {
   "display_name": "Python 3 (ipykernel)",
   "language": "python",
   "name": "python3"
  },
  "language_info": {
   "codemirror_mode": {
    "name": "ipython",
    "version": 3
   },
   "file_extension": ".py",
   "mimetype": "text/x-python",
   "name": "python",
   "nbconvert_exporter": "python",
   "pygments_lexer": "ipython3",
   "version": "3.11.3"
  }
 },
 "nbformat": 4,
 "nbformat_minor": 1
}
